{
 "cells": [
  {
   "cell_type": "code",
   "execution_count": 20,
   "id": "053d42ec-a3e4-4e92-b53f-0cc5c8dc93a9",
   "metadata": {},
   "outputs": [],
   "source": [
    "# start with imports\n",
    "import pandas as pd\n",
    "import matplotlib.pyplot as plt\n",
    "\n",
    "from sklearn.ensemble import RandomForestClassifier\n",
    "from sklearn.model_selection import cross_val_score, StratifiedKFold, train_test_split, GridSearchCV\n",
    "from sklearn.feature_extraction.text import CountVectorizer, TfidfVectorizer\n",
    "from sklearn.preprocessing import StandardScaler \n",
    "from sklearn.linear_model import LogisticRegression\n",
    "from sklearn.pipeline import Pipeline\n",
    "from sklearn.metrics import confusion_matrix, recall_score, precision_score, accuracy_score, plot_roc_curve, plot_confusion_matrix \n",
    "\n",
    "import spacy\n",
    "from spacytextblob.spacytextblob import SpacyTextBlob\n",
    "import nltk\n",
    "from nltk.stem.porter import *\n",
    "from nltk.stem import PorterStemmer\n",
    "from collections import Counter\n",
    "\n",
    "cv = StratifiedKFold(n_splits=3,\n",
    "                     random_state=73,\n",
    "                     shuffle=True)"
   ]
  },
  {
   "cell_type": "code",
   "execution_count": 2,
   "id": "b0446836-8791-4a11-b10a-42f2c5efff0e",
   "metadata": {},
   "outputs": [],
   "source": [
    "# loading backup data\n",
    "# df = pd.read_csv('./data/backup_data.csv')\n",
    "df = pd.read_csv('./data/reddit_scrap.csv')"
   ]
  },
  {
   "cell_type": "code",
   "execution_count": 3,
   "id": "f53e36c2-84d9-4532-a6de-e3b9f98f4a2f",
   "metadata": {},
   "outputs": [
    {
     "data": {
      "text/plain": [
       "105.0"
      ]
     },
     "execution_count": 3,
     "metadata": {},
     "output_type": "execute_result"
    }
   ],
   "source": [
    "# Binary target\n",
    "comment_median = df['num_comments'].median()\n",
    "df['target'] = [1 if x>comment_median else 0 for x in df['num_comments']]\n",
    "comment_median"
   ]
  },
  {
   "cell_type": "code",
   "execution_count": 4,
   "id": "c6403508-d175-466b-bb8b-9314e4b232ff",
   "metadata": {},
   "outputs": [
    {
     "data": {
      "text/plain": [
       "0.5006873977086743"
      ]
     },
     "execution_count": 4,
     "metadata": {},
     "output_type": "execute_result"
    }
   ],
   "source": [
    "# Baseline accuracy\n",
    "1 - df['target'].mean()"
   ]
  },
  {
   "cell_type": "markdown",
   "id": "9267a551-36e5-4273-bcd4-7b949612bbf3",
   "metadata": {},
   "source": [
    "## Feature Engineering "
   ]
  },
  {
   "cell_type": "code",
   "execution_count": 5,
   "id": "5cd80742-c686-4784-a769-79bf464c8e1a",
   "metadata": {},
   "outputs": [],
   "source": [
    "# Load language model\n",
    "nlp = spacy.load('en_core_web_sm')\n",
    "\n",
    "# Stem the thread titles\n",
    "stemmer = PorterStemmer()\n",
    "df['stemmed_text'] = [' '.join([stemmer.stem(w.text) for w in nlp(t)]) for t in df.title]"
   ]
  },
  {
   "cell_type": "code",
   "execution_count": 6,
   "id": "5114b39a-7620-493b-9463-4ed2c4d9e29e",
   "metadata": {},
   "outputs": [
    {
     "name": "stderr",
     "output_type": "stream",
     "text": [
      "C:\\Users\\Dimitrios\\anaconda3\\lib\\site-packages\\sklearn\\utils\\deprecation.py:87: FutureWarning: Function get_feature_names is deprecated; get_feature_names is deprecated in 1.0 and will be removed in 1.2. Please use get_feature_names_out instead.\n",
      "  warnings.warn(msg, category=FutureWarning)\n"
     ]
    }
   ],
   "source": [
    "# Vectorize stemmed thread titles\n",
    "tvec = TfidfVectorizer(stop_words='english', \n",
    "                       strip_accents='ascii',\n",
    "                       max_features=100, \n",
    "                       max_df=.60, \n",
    "                       norm='l2')\n",
    "tvec.fit(df.stemmed_text)\n",
    "\n",
    "df_tvec = pd.DataFrame(tvec.transform(df['title']).todense(), \n",
    "                     columns=tvec.get_feature_names())"
   ]
  },
  {
   "cell_type": "code",
   "execution_count": 7,
   "id": "71ebd65b-4fdf-4bec-afcc-77eb618794db",
   "metadata": {},
   "outputs": [],
   "source": [
    "# Count parts of speech\n",
    "pos_for_df = [Counter([w.pos_ for w in nlp(t)]) for t in df.title]\n",
    "\n",
    "# Get all parts of speech\n",
    "all_pos = list(set([key for pos_counter in pos_for_df for key in pos_counter]))"
   ]
  },
  {
   "cell_type": "code",
   "execution_count": 8,
   "id": "bf0092ce-717c-40ce-bedf-1f6fc0b5a5fa",
   "metadata": {},
   "outputs": [
    {
     "name": "stderr",
     "output_type": "stream",
     "text": [
      "<ipython-input-8-acdc8506902c>:10: DeprecationWarning: [W107] The property `Doc.is_parsed` is deprecated. Use `Doc.has_annotation(\"DEP\")` instead.\n",
      "  assert parsed.is_parsed\n"
     ]
    }
   ],
   "source": [
    "# parse thread titles\n",
    "for pos in all_pos:\n",
    "    df_tvec[pos + '_proportion'] = 0\n",
    "    \n",
    "parsed_quotes = []\n",
    "\n",
    "for i, parsed in enumerate(nlp.pipe(df.title.values,\n",
    "                                       batch_size = 50,\n",
    "                                       n_process = 8)): \n",
    "    assert parsed.is_parsed\n",
    "    parsed_quotes.append(parsed) "
   ]
  },
  {
   "cell_type": "code",
   "execution_count": 9,
   "id": "8ed9934a-4b51-4254-8a07-756c85fc33e3",
   "metadata": {},
   "outputs": [],
   "source": [
    "# Add proportions from Parts of Speech\n",
    "for i, parsed in enumerate(parsed_quotes):\n",
    "    parsed_len = len(parsed)\n",
    "    for pos in all_pos:\n",
    "        count = len([x for x in parsed if x.pos_ == pos])\n",
    "        df_tvec.loc[i, pos+'_proportion'] = float(count) / parsed_len"
   ]
  },
  {
   "cell_type": "code",
   "execution_count": 10,
   "id": "f48ffa70-45ef-407c-92a5-47203cac89b0",
   "metadata": {},
   "outputs": [],
   "source": [
    "# X and y\n",
    "X = df_tvec\n",
    "y = df['target']\n",
    "\n",
    "X_train, X_test, y_train, y_test = train_test_split(X,\n",
    "                                                    y,\n",
    "                                                    test_size = 0.33,\n",
    "                                                    random_state = 42,\n",
    "                                                    stratify = y)"
   ]
  },
  {
   "cell_type": "markdown",
   "id": "e4d5f6b6-21ce-4a3b-8eb6-eb62eb792397",
   "metadata": {},
   "source": [
    "## Random Forest Model"
   ]
  },
  {
   "cell_type": "code",
   "execution_count": 11,
   "id": "5e86de97-b24b-449c-90df-de4f1347ccd0",
   "metadata": {},
   "outputs": [
    {
     "name": "stdout",
     "output_type": "stream",
     "text": [
      "Fitting 5 folds for each of 6 candidates, totalling 30 fits\n"
     ]
    },
    {
     "data": {
      "text/plain": [
       "GridSearchCV(cv=5, estimator=RandomForestClassifier(),\n",
       "             param_grid={'class_weight': ['balanced', 'balanced_subsample'],\n",
       "                         'n_estimators': [100, 150, 200]},\n",
       "             verbose=1)"
      ]
     },
     "execution_count": 11,
     "metadata": {},
     "output_type": "execute_result"
    }
   ],
   "source": [
    "# RandomForest gridsearch\n",
    "rt_params = {\n",
    "    'n_estimators':[100,150,200],\n",
    "    'class_weight':['balanced','balanced_subsample']\n",
    "}\n",
    "rt_gridsearch = GridSearchCV(RandomForestClassifier(), \n",
    "                             rt_params, \n",
    "                             cv=5, \n",
    "                             verbose=1)\n",
    "rt_gridsearch.fit(X_train, y_train)"
   ]
  },
  {
   "cell_type": "code",
   "execution_count": 12,
   "id": "89a8727a-437b-400b-b0be-93105b6c4517",
   "metadata": {},
   "outputs": [],
   "source": [
    "def grid_values(gridsearch):\n",
    "    return f'Best Score: {gridsearch.best_score_}, Test Score: {gridsearch.score(X_test, y_test)}'"
   ]
  },
  {
   "cell_type": "code",
   "execution_count": 13,
   "id": "b86f1e7f-8d6e-403c-be45-11bcb648952c",
   "metadata": {},
   "outputs": [
    {
     "data": {
      "text/plain": [
       "'Best Score: 0.5980065718565805, Test Score: 0.6026582027375521'"
      ]
     },
     "execution_count": 13,
     "metadata": {},
     "output_type": "execute_result"
    }
   ],
   "source": [
    "grid_values(rt_gridsearch)"
   ]
  },
  {
   "cell_type": "code",
   "execution_count": 14,
   "id": "25eb4c10-94bf-4f95-b18c-21d41bd0b12b",
   "metadata": {},
   "outputs": [
    {
     "data": {
      "text/plain": [
       "'Accuracy: 0.6026582027375521, Recall (Sensitivity): 0.6261422328168454, Precision: 0.5974222896133434'"
      ]
     },
     "execution_count": 14,
     "metadata": {},
     "output_type": "execute_result"
    }
   ],
   "source": [
    "pred_rt = rt_gridsearch.predict(X_test)\n",
    "f'Accuracy: {accuracy_score(y_test, pred_rt)}, Recall (Sensitivity): {recall_score(y_test, pred_rt)}, Precision: {precision_score(y_test, pred_rt)}'"
   ]
  },
  {
   "cell_type": "markdown",
   "id": "5533f72e-d78a-4252-903b-3f36b1c5e317",
   "metadata": {},
   "source": [
    "## Logistic Regression Model"
   ]
  },
  {
   "cell_type": "code",
   "execution_count": 15,
   "id": "a3d81863-21ae-4ae3-89ff-a48e71d41db5",
   "metadata": {},
   "outputs": [
    {
     "name": "stdout",
     "output_type": "stream",
     "text": [
      "Fitting 5 folds for each of 2 candidates, totalling 10 fits\n"
     ]
    },
    {
     "name": "stderr",
     "output_type": "stream",
     "text": [
      "C:\\Users\\Dimitrios\\anaconda3\\lib\\site-packages\\sklearn\\linear_model\\_sag.py:352: ConvergenceWarning: The max_iter was reached which means the coef_ did not converge\n",
      "  warnings.warn(\n",
      "C:\\Users\\Dimitrios\\anaconda3\\lib\\site-packages\\sklearn\\linear_model\\_sag.py:352: ConvergenceWarning: The max_iter was reached which means the coef_ did not converge\n",
      "  warnings.warn(\n",
      "C:\\Users\\Dimitrios\\anaconda3\\lib\\site-packages\\sklearn\\linear_model\\_sag.py:352: ConvergenceWarning: The max_iter was reached which means the coef_ did not converge\n",
      "  warnings.warn(\n",
      "C:\\Users\\Dimitrios\\anaconda3\\lib\\site-packages\\sklearn\\linear_model\\_sag.py:352: ConvergenceWarning: The max_iter was reached which means the coef_ did not converge\n",
      "  warnings.warn(\n"
     ]
    },
    {
     "data": {
      "text/plain": [
       "GridSearchCV(cv=5, estimator=LogisticRegression(),\n",
       "             param_grid={'class_weight': ['balanced'], 'max_iter': [2000],\n",
       "                         'n_jobs': [1], 'penalty': ['l2', 'none'],\n",
       "                         'random_state': [42], 'solver': ['sag']},\n",
       "             verbose=1)"
      ]
     },
     "execution_count": 15,
     "metadata": {},
     "output_type": "execute_result"
    }
   ],
   "source": [
    "logreg_params = {\n",
    "    'penalty':['l2','none'],\n",
    "    'class_weight':['balanced'],\n",
    "    'random_state':[42],\n",
    "    'solver':['sag'],\n",
    "    'max_iter':[2000],\n",
    "    'n_jobs':[1]\n",
    "}\n",
    "logreg_gridsearch = GridSearchCV(LogisticRegression(),\n",
    "                                logreg_params,\n",
    "                                cv=5,\n",
    "                                verbose=1)\n",
    "logreg_gridsearch.fit(X_train, y_train)"
   ]
  },
  {
   "cell_type": "code",
   "execution_count": 16,
   "id": "795fb725-4944-49e2-8927-2c0379ba6464",
   "metadata": {},
   "outputs": [
    {
     "data": {
      "text/plain": [
       "'Best Score: 0.5578464252337898, Test Score: 0.5524697480658599'"
      ]
     },
     "execution_count": 16,
     "metadata": {},
     "output_type": "execute_result"
    }
   ],
   "source": [
    "grid_values(logreg_gridsearch)"
   ]
  },
  {
   "cell_type": "code",
   "execution_count": 17,
   "id": "1768445d-d033-4d1c-846d-e230398defbd",
   "metadata": {},
   "outputs": [
    {
     "data": {
      "text/plain": [
       "'Accuracy: 0.5524697480658599, Recall (Sensitivity): 0.5212554628526023, Precision: 0.5552264071096065'"
      ]
     },
     "execution_count": 17,
     "metadata": {},
     "output_type": "execute_result"
    }
   ],
   "source": [
    "pred_log = logreg_gridsearch.predict(X_test)\n",
    "f'Accuracy: {accuracy_score(y_test, pred_log)}, Recall (Sensitivity): {recall_score(y_test, pred_log)}, Precision: {precision_score(y_test, pred_log)}'"
   ]
  },
  {
   "cell_type": "markdown",
   "id": "3e791021-ecbc-4db4-a29d-4a411e66ffd0",
   "metadata": {},
   "source": [
    "### Summary Metrics"
   ]
  },
  {
   "cell_type": "markdown",
   "id": "e7903bc6-bb75-44fb-9ab3-06c64fa3477b",
   "metadata": {},
   "source": [
    "| Metrics    | Random Forest Model | Logistic Regression Model|\n",
    "| ----------- | ----------- | ----------- |\n",
    "| Best Score  | **0.571**   | 0.565 |\n",
    "| Test Score  | **0.573**       | 0.565\n",
    "| Accuracy  | **0.573**       | 0.565\n",
    "| Sensitivity  | **0.603**       | 0.523\n",
    "| Precision  | 0.568        | **0.570**"
   ]
  },
  {
   "cell_type": "markdown",
   "id": "5d074512-cfe8-4d64-9b41-c08822f8734b",
   "metadata": {},
   "source": [
    "## Confusion Matricies"
   ]
  },
  {
   "cell_type": "markdown",
   "id": "aca73e3f-251c-40ab-937e-9ec48540b531",
   "metadata": {},
   "source": [
    "### Random Forest"
   ]
  },
  {
   "cell_type": "code",
   "execution_count": 18,
   "id": "ba3e9ecc-edce-400b-8e58-aa9ee1ac15e7",
   "metadata": {},
   "outputs": [
    {
     "data": {
      "text/html": [
       "<div>\n",
       "<style scoped>\n",
       "    .dataframe tbody tr th:only-of-type {\n",
       "        vertical-align: middle;\n",
       "    }\n",
       "\n",
       "    .dataframe tbody tr th {\n",
       "        vertical-align: top;\n",
       "    }\n",
       "\n",
       "    .dataframe thead th {\n",
       "        text-align: right;\n",
       "    }\n",
       "</style>\n",
       "<table border=\"1\" class=\"dataframe\">\n",
       "  <thead>\n",
       "    <tr style=\"text-align: right;\">\n",
       "      <th></th>\n",
       "      <th>pred low comments/pred_neg</th>\n",
       "      <th>pred high comments/pred_pos</th>\n",
       "    </tr>\n",
       "  </thead>\n",
       "  <tbody>\n",
       "    <tr>\n",
       "      <th>actual low comments/actual_neg</th>\n",
       "      <td>1462</td>\n",
       "      <td>1062</td>\n",
       "    </tr>\n",
       "    <tr>\n",
       "      <th>actual high comments/actual_pos</th>\n",
       "      <td>941</td>\n",
       "      <td>1576</td>\n",
       "    </tr>\n",
       "  </tbody>\n",
       "</table>\n",
       "</div>"
      ],
      "text/plain": [
       "                                 pred low comments/pred_neg  \\\n",
       "actual low comments/actual_neg                         1462   \n",
       "actual high comments/actual_pos                         941   \n",
       "\n",
       "                                 pred high comments/pred_pos  \n",
       "actual low comments/actual_neg                          1062  \n",
       "actual high comments/actual_pos                         1576  "
      ]
     },
     "execution_count": 18,
     "metadata": {},
     "output_type": "execute_result"
    }
   ],
   "source": [
    "cm_rt = confusion_matrix(y_test, pred_rt)\n",
    "cm_df_rt = pd.DataFrame(cm_rt, columns=['pred low comments/pred_neg', 'pred high comments/pred_pos'], \n",
    "                     index=['actual low comments/actual_neg', 'actual high comments/actual_pos'])\n",
    "cm_df_rt"
   ]
  },
  {
   "cell_type": "code",
   "execution_count": 21,
   "id": "53a98fdd-aa64-4367-9fc9-8423e36e153a",
   "metadata": {},
   "outputs": [
    {
     "name": "stderr",
     "output_type": "stream",
     "text": [
      "C:\\Users\\Dimitrios\\anaconda3\\lib\\site-packages\\sklearn\\utils\\deprecation.py:87: FutureWarning: Function plot_confusion_matrix is deprecated; Function `plot_confusion_matrix` is deprecated in 1.0 and will be removed in 1.2. Use one of the class methods: ConfusionMatrixDisplay.from_predictions or ConfusionMatrixDisplay.from_estimator.\n",
      "  warnings.warn(msg, category=FutureWarning)\n"
     ]
    },
    {
     "data": {
      "image/png": "[encoded data removed]",
      "text/plain": [
       "<Figure size 576x576 with 2 Axes>"
      ]
     },
     "metadata": {
      "needs_background": "light"
     },
     "output_type": "display_data"
    }
   ],
   "source": [
    "fig, ax = plt.subplots(figsize=(8, 8))\n",
    "plot_confusion_matrix(rt_gridsearch, X_test, y_test, cmap='Blues', \n",
    "                      values_format='d', display_labels=['low', 'high'], ax=ax);"
   ]
  },
  {
   "cell_type": "markdown",
   "id": "a61b6ebe-eb7f-4947-b75a-4043f0e87de3",
   "metadata": {},
   "source": [
    "### Logistic Regression"
   ]
  },
  {
   "cell_type": "code",
   "execution_count": 22,
   "id": "c1b5a906-82cb-498f-b0fa-1bd6965a1111",
   "metadata": {},
   "outputs": [
    {
     "data": {
      "text/html": [
       "<div>\n",
       "<style scoped>\n",
       "    .dataframe tbody tr th:only-of-type {\n",
       "        vertical-align: middle;\n",
       "    }\n",
       "\n",
       "    .dataframe tbody tr th {\n",
       "        vertical-align: top;\n",
       "    }\n",
       "\n",
       "    .dataframe thead th {\n",
       "        text-align: right;\n",
       "    }\n",
       "</style>\n",
       "<table border=\"1\" class=\"dataframe\">\n",
       "  <thead>\n",
       "    <tr style=\"text-align: right;\">\n",
       "      <th></th>\n",
       "      <th>pred low comments/pred_neg</th>\n",
       "      <th>pred high comments/pred_pos</th>\n",
       "    </tr>\n",
       "  </thead>\n",
       "  <tbody>\n",
       "    <tr>\n",
       "      <th>actual low comments/actual_neg</th>\n",
       "      <td>1473</td>\n",
       "      <td>1051</td>\n",
       "    </tr>\n",
       "    <tr>\n",
       "      <th>actual high comments/actual_pos</th>\n",
       "      <td>1205</td>\n",
       "      <td>1312</td>\n",
       "    </tr>\n",
       "  </tbody>\n",
       "</table>\n",
       "</div>"
      ],
      "text/plain": [
       "                                 pred low comments/pred_neg  \\\n",
       "actual low comments/actual_neg                         1473   \n",
       "actual high comments/actual_pos                        1205   \n",
       "\n",
       "                                 pred high comments/pred_pos  \n",
       "actual low comments/actual_neg                          1051  \n",
       "actual high comments/actual_pos                         1312  "
      ]
     },
     "execution_count": 22,
     "metadata": {},
     "output_type": "execute_result"
    }
   ],
   "source": [
    "cm_log = confusion_matrix(y_test, pred_log)\n",
    "cm_df_log = pd.DataFrame(cm_log, columns=['pred low comments/pred_neg', 'pred high comments/pred_pos'], \n",
    "                     index=['actual low comments/actual_neg', 'actual high comments/actual_pos'])\n",
    "cm_df_log"
   ]
  },
  {
   "cell_type": "code",
   "execution_count": 23,
   "id": "758e0bf8-9b53-4723-8c4b-1c56b83e66b9",
   "metadata": {},
   "outputs": [
    {
     "name": "stderr",
     "output_type": "stream",
     "text": [
      "C:\\Users\\Dimitrios\\anaconda3\\lib\\site-packages\\sklearn\\utils\\deprecation.py:87: FutureWarning: Function plot_confusion_matrix is deprecated; Function `plot_confusion_matrix` is deprecated in 1.0 and will be removed in 1.2. Use one of the class methods: ConfusionMatrixDisplay.from_predictions or ConfusionMatrixDisplay.from_estimator.\n",
      "  warnings.warn(msg, category=FutureWarning)\n"
     ]
    },
    {
     "data": {
      "image/png": "[encoded data removed]",
      "text/plain": [
       "<Figure size 576x576 with 2 Axes>"
      ]
     },
     "metadata": {
      "needs_background": "light"
     },
     "output_type": "display_data"
    }
   ],
   "source": [
    "fig, ax = plt.subplots(figsize=(8, 8))\n",
    "plot_confusion_matrix(logreg_gridsearch, X_test, y_test, cmap='Blues', \n",
    "                      values_format='d', display_labels=['low', 'high'], ax=ax);"
   ]
  },
  {
   "cell_type": "code",
   "execution_count": null,
   "id": "2277cd2d-c0fd-42f7-9e2c-4eed1db9fdf2",
   "metadata": {},
   "outputs": [],
   "source": []
  }
 ],
 "metadata": {
  "kernelspec": {
   "display_name": "Python 3",
   "language": "python",
   "name": "python3"
  },
  "language_info": {
   "codemirror_mode": {
    "name": "ipython",
    "version": 3
   },
   "file_extension": ".py",
   "mimetype": "text/x-python",
   "name": "python",
   "nbconvert_exporter": "python",
   "pygments_lexer": "ipython3",
   "version": "3.8.8"
  }
 },
 "nbformat": 4,
 "nbformat_minor": 5
}
