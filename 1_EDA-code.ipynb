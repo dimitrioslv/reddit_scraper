{
 "cells": [
  {
   "cell_type": "code",
   "execution_count": 1,
   "id": "0aebd8c1-eab1-4c38-9a32-a831e40b0df4",
   "metadata": {},
   "outputs": [],
   "source": [
    "# Start with imports\n",
    "import pandas as pd\n",
    "import numpy as np\n",
    "import matplotlib.pyplot as plt\n",
    "import seaborn as sns"
   ]
  },
  {
   "cell_type": "code",
   "execution_count": 2,
   "id": "a3e9eafb-4fca-4614-9fb0-8741eb306e18",
   "metadata": {},
   "outputs": [],
   "source": [
    "# Loading backup data\n",
    "# df = pd.read_csv('./data/backup_data.csv')\n",
    "df = pd.read_csv('./data/reddit_scrap.csv')\n",
    "# Binary target\n",
    "comment_median = df['num_comments'].median()\n",
    "df['target'] = [1 if x>comment_median else 0 for x in df['num_comments']]"
   ]
  },
  {
   "cell_type": "markdown",
   "id": "946fda03-6fa9-4d9d-995a-253e77f22737",
   "metadata": {},
   "source": [
    "### Basic EDA\n",
    "- *Having spent a majority of my time with this project building the scrapper and fitting the models, I have not been able to visualize the amount of data analysis that I would desire for this dataset. What follows are some simple observations on the baseline features and a couple of quickly engineered features for the EDA process.*\n",
    "\n",
    "- Directly below is the top ten subreddits that contained the most threads appearing in the dataset. I wanted to show this data because the subreddit this was all scrapped from was Reddit's own 'r/popular' and specifically from 'hot' threads, that is, ones that are rising in popularity as time progresses. Seeing subreddits multiple times suggests that the subreddit itself is very popular and would garner a lot of engagment. "
   ]
  },
  {
   "cell_type": "code",
   "execution_count": 3,
   "id": "c522f4d9-4244-4a5e-93fd-57ab1118a124",
   "metadata": {},
   "outputs": [
    {
     "data": {
      "text/plain": [
       "MadeMeSmile           71\n",
       "dankmemes             68\n",
       "HolUp                 66\n",
       "antiwork              66\n",
       "shitposting           64\n",
       "memes                 62\n",
       "interestingasfuck     60\n",
       "nextfuckinglevel      60\n",
       "WhitePeopleTwitter    60\n",
       "Superstonk            59\n",
       "Name: subreddit, dtype: int64"
      ]
     },
     "execution_count": 3,
     "metadata": {},
     "output_type": "execute_result"
    }
   ],
   "source": [
    "# Top subreddits that appear the most in 'hot'\n",
    "df.subreddit.value_counts().head(10)"
   ]
  },
  {
   "cell_type": "markdown",
   "id": "6182cca0-8a40-4d51-9c02-939786020d2f",
   "metadata": {},
   "source": [
    "#### Word Count\n",
    "- Since I would be performing Natural Language Processing on the titles of these Reddit threads, I wondered if, naturally, the amount of words in a title had any significance on the amount of engagment. With that, I engineered a quick feature and found that 'low' engagement posts were averaging about 8 words per post, while 'high' engagement posts averaged almost 11 words per post."
   ]
  },
  {
   "cell_type": "code",
   "execution_count": 4,
   "id": "5a96ee51-4b81-49ff-b7f9-16e86c17449e",
   "metadata": {},
   "outputs": [],
   "source": [
    "# Add count of words in thread title\n",
    "df['word_count'] = [len(x.split()) for x in df['title']]"
   ]
  },
  {
   "cell_type": "code",
   "execution_count": 5,
   "id": "14b99b4c-41bc-418f-bba6-98bd62f09937",
   "metadata": {},
   "outputs": [
    {
     "data": {
      "text/html": [
       "<div>\n",
       "<style scoped>\n",
       "    .dataframe tbody tr th:only-of-type {\n",
       "        vertical-align: middle;\n",
       "    }\n",
       "\n",
       "    .dataframe tbody tr th {\n",
       "        vertical-align: top;\n",
       "    }\n",
       "\n",
       "    .dataframe thead th {\n",
       "        text-align: right;\n",
       "    }\n",
       "</style>\n",
       "<table border=\"1\" class=\"dataframe\">\n",
       "  <thead>\n",
       "    <tr style=\"text-align: right;\">\n",
       "      <th></th>\n",
       "      <th>word_count</th>\n",
       "    </tr>\n",
       "    <tr>\n",
       "      <th>target</th>\n",
       "      <th></th>\n",
       "    </tr>\n",
       "  </thead>\n",
       "  <tbody>\n",
       "    <tr>\n",
       "      <th>0</th>\n",
       "      <td>8.314854</td>\n",
       "    </tr>\n",
       "    <tr>\n",
       "      <th>1</th>\n",
       "      <td>11.359381</td>\n",
       "    </tr>\n",
       "  </tbody>\n",
       "</table>\n",
       "</div>"
      ],
      "text/plain": [
       "        word_count\n",
       "target            \n",
       "0         8.314854\n",
       "1        11.359381"
      ]
     },
     "execution_count": 5,
     "metadata": {},
     "output_type": "execute_result"
    }
   ],
   "source": [
    "# Mean word count of posts with low and high comments\n",
    "df.groupby(by='target').agg({'word_count':'mean'})"
   ]
  },
  {
   "cell_type": "code",
   "execution_count": 6,
   "id": "dc1e9eeb-4587-4f7f-8ad7-5c3befa039d2",
   "metadata": {},
   "outputs": [
    {
     "data": {
      "text/plain": [
       "Text(0, 0.5, 'Amount of Upvotes')"
      ]
     },
     "execution_count": 6,
     "metadata": {},
     "output_type": "execute_result"
    },
    {
     "data": {
      "image/png": "[encoded data removed]",
      "text/plain": [
       "<Figure size 720x432 with 1 Axes>"
      ]
     },
     "metadata": {
      "needs_background": "light"
     },
     "output_type": "display_data"
    }
   ],
   "source": [
    "plt.figure(figsize = (10,6))\n",
    "\n",
    "plt.bar(x = df.word_count, height = df.num_comments, color = 'orange')\n",
    "\n",
    "plt.title('Number of Words in Title /w Upvotes on Thread', size = 18)\n",
    "plt.xlabel('Word Count', size = 14)\n",
    "plt.ylabel('Amount of Upvotes', size = 14)"
   ]
  },
  {
   "cell_type": "markdown",
   "id": "18273e2c-b7e4-4a85-abf0-95691a5ef7bc",
   "metadata": {},
   "source": [
    "*I further explored the amount of engagement vs. word count in the title by visualizing the amount of upvotes posts receive and the amount of words the titles contained. In general, from the bargraph there is a condensing of observations at a lower word count.*"
   ]
  },
  {
   "cell_type": "markdown",
   "id": "e5e41dde-35da-4ae2-ba85-18a92a3776db",
   "metadata": {},
   "source": [
    "## Recommendations\n",
    "- Post in one of the reddit threads listed above with a title that asks a question to get the most engagment through comments on the thread\n",
    "- Keep word count in your title at 15 words or less.\n",
    "- Check with our trained Random Forest Model to predict whether a potential post will be successful based on the wording used in the title of the thread."
   ]
  },
  {
   "cell_type": "code",
   "execution_count": null,
   "id": "02f7d4ad-47d8-4e4e-a429-720e37735bb2",
   "metadata": {},
   "outputs": [],
   "source": []
  }
 ],
 "metadata": {
  "kernelspec": {
   "display_name": "Python 3",
   "language": "python",
   "name": "python3"
  },
  "language_info": {
   "codemirror_mode": {
    "name": "ipython",
    "version": 3
   },
   "file_extension": ".py",
   "mimetype": "text/x-python",
   "name": "python",
   "nbconvert_exporter": "python",
   "pygments_lexer": "ipython3",
   "version": "3.8.8"
  }
 },
 "nbformat": 4,
 "nbformat_minor": 5
}
